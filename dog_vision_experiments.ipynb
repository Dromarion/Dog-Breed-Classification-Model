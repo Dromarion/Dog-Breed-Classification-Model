{
  "nbformat": 4,
  "nbformat_minor": 0,
  "metadata": {
    "colab": {
      "name": "dog_vision_experiments.ipynb",
      "provenance": [],
      "collapsed_sections": [],
      "mount_file_id": "1lJPNLTEDBP2TZaioQalIaXyiORqFt3X9",
      "authorship_tag": "ABX9TyPKs1CsjQRIQQdocUZt0d6v",
      "include_colab_link": true
    },
    "kernelspec": {
      "name": "python3",
      "display_name": "Python 3"
    },
    "language_info": {
      "name": "python"
    }
  },
  "cells": [
    {
      "cell_type": "markdown",
      "metadata": {
        "id": "view-in-github",
        "colab_type": "text"
      },
      "source": [
        "<a href=\"https://colab.research.google.com/github/Dromarion/Dog-Breed-Classification-Model/blob/experiments-cleanup/dog_vision_experiments.ipynb\" target=\"_parent\"><img src=\"https://colab.research.google.com/assets/colab-badge.svg\" alt=\"Open In Colab\"/></a>"
      ]
    },
    {
      "cell_type": "markdown",
      "metadata": {
        "id": "3IkqUyaX0WL3"
      },
      "source": [
        "# Dog Breed Classification Model Experiments\n",
        "This notebook will be used for testing various experiments to create a multi-class image classifier using Tensorflow.\n",
        "\n",
        "## Objectives\n",
        "If I take a photo of a dog, I want to know what breed the dog is.\n",
        "\n",
        "## Data\n",
        "The data used for this project will be from Kaggle's dog breed identification dataset. This should be stored in the google drive inside \n",
        "\n",
        "/<wbr>content/drive/MyDrive/Data/Dog Vision/\n",
        "\n",
        "https://www.kaggle.com/c/dog-breed-identification/data\n",
        "\n",
        "## Features\n",
        "* There are 120 unique breeds of dogs, some notable breeds seem to be missing, for example Huskies.\n",
        "* There are 10,000+ images in each of the training and test datasets. The training images have labels while the test datasets do not."
      ]
    },
    {
      "cell_type": "code",
      "metadata": {
        "id": "qwImxcWb13ii"
      },
      "source": [
        "# Import Libraries\n",
        "import os\n",
        "import datetime\n",
        "from IPython.display import Image\n",
        "# Data Science\n",
        "import pandas as pd\n",
        "import numpy as np\n",
        "import matplotlib.pyplot as plt\n",
        "from sklearn.model_selection import train_test_split\n",
        "import tensorflow as tf\n",
        "import tensorflow_hub as hub"
      ],
      "execution_count": 12,
      "outputs": []
    },
    {
      "cell_type": "code",
      "metadata": {
        "id": "5pCc3j5a3cdD",
        "colab": {
          "base_uri": "https://localhost:8080/"
        },
        "outputId": "59fb7557-e4b2-4a71-fe68-264af5a3aca5"
      },
      "source": [
        "# Create variables for training labels and filepaths\n",
        "labels_csv = pd.read_csv(\"/content/drive/MyDrive/Data/Dog Vision/labels.csv\")\n",
        "filepath = [\"/content/drive/MyDrive/Data/Dog Vision/train/\" + fname + \".jpg\" for fname in labels_csv[\"id\"]]\n",
        "# Verify if filepaths match actual number of files in directory\n",
        "len(filepath) == len(os.listdir(\"/content/drive/MyDrive/Data/Dog Vision/train/\"))"
      ],
      "execution_count": 20,
      "outputs": [
        {
          "output_type": "execute_result",
          "data": {
            "text/plain": [
              "True"
            ]
          },
          "metadata": {},
          "execution_count": 20
        }
      ]
    },
    {
      "cell_type": "code",
      "metadata": {
        "id": "Zaaue2d-5lsU"
      },
      "source": [
        "# Create array of all breed labels in csv\n",
        "labels = labels_csv[\"breed\"].to_numpy()\n",
        "# Create array of the 120 unique breeds\n",
        "unique_breeds = np.unique(label)\n",
        "# Turn each label into a series of booleans of all 120 unique breeds\n",
        "boolean_label = [label == unique_breeds for label in labels]"
      ],
      "execution_count": 28,
      "outputs": []
    },
    {
      "cell_type": "code",
      "metadata": {
        "id": "0qLdBkoY7F20"
      },
      "source": [
        ""
      ],
      "execution_count": null,
      "outputs": []
    }
  ]
}