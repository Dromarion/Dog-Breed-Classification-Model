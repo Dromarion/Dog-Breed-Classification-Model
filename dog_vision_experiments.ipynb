{
  "nbformat": 4,
  "nbformat_minor": 0,
  "metadata": {
    "accelerator": "GPU",
    "colab": {
      "name": "dog-vision-experiments.ipynb",
      "provenance": [],
      "collapsed_sections": [],
      "mount_file_id": "1Kr5c2pzD2yfHjTOt_1fAqH64miDW2Oqf",
      "authorship_tag": "ABX9TyODtLCphsmdLwvFlLpfsI/R",
      "include_colab_link": true
    },
    "kernelspec": {
      "display_name": "Python 3",
      "name": "python3"
    },
    "language_info": {
      "name": "python"
    }
  },
  "cells": [
    {
      "cell_type": "markdown",
      "metadata": {
        "id": "view-in-github",
        "colab_type": "text"
      },
      "source": [
        "<a href=\"https://colab.research.google.com/github/Dromarion/Dog-Breed-Classification-Model/blob/main/dog_vision_experiments.ipynb\" target=\"_parent\"><img src=\"https://colab.research.google.com/assets/colab-badge.svg\" alt=\"Open In Colab\"/></a>"
      ]
    },
    {
      "cell_type": "markdown",
      "metadata": {
        "id": "CGXqZAcu8aJ7"
      },
      "source": [
        "# End-to-end Multi-class Dog Breed Classification\n",
        "\n",
        "This notebook builds an end-to-end multi-class image classifier using TensorFlow 2.0 and TensorFlow Hub.\n",
        "\n",
        "## 1. Problem\n",
        "\n",
        "Identifying the breed of a dog given an image of a dog.\n",
        "\n",
        "When I take a photo of a dog, I want to know what breed of dog it is.\n",
        "\n",
        "## 2. Data\n",
        "The data we're using is from Kaggle's dog breed identification competition.\n",
        "\n",
        "https://www.kaggle.com/c/dog-breed-identification/data\n",
        "\n",
        "## 3. Evaluation\n",
        "\n",
        "The evaluation is a file with prediction probabilities for each dog breed of each test image.\n",
        "\n",
        "https://www.kaggle.com/c/dog-breed-identification/overview/evaluation\n",
        "\n",
        "## 4. Features\n",
        "\n",
        "Some information about the data:\n",
        "\n",
        "* We're dealing with images (unstructured data) so it's probably best we use deep learning/transfer learning.\n",
        "* There are 120 breeds of dogs (this means there are 120 different classes).\n",
        "* There are around 10,000+ images in the training set (these images have labels).\n",
        "* There are around 10,000+ images in the test set (these images have no labels, because we'll want to predict them).\n"
      ]
    },
    {
      "cell_type": "code",
      "metadata": {
        "id": "Q7fGcPqfaKRu",
        "colab": {
          "base_uri": "https://localhost:8080/"
        },
        "outputId": "b51d47c0-6a6b-411a-901b-cc52c35159f5"
      },
      "source": [
        "# OS Functions\n",
        "import os\n",
        "import datetime\n",
        "from IPython.display import Image\n",
        "# Data Science Libraries\n",
        "import pandas as pd\n",
        "import numpy as np\n",
        "import matplotlib.pyplot as plt\n",
        "from sklearn.model_selection import train_test_split\n",
        "import tensorflow as tf\n",
        "import tensorflow_hub as hub\n",
        "\n",
        "# Mount Drive (Project Folder in drive/data/Dog Vision)\n",
        "from google.colab import drive\n",
        "drive.mount('/content/drive')"
      ],
      "execution_count": 32,
      "outputs": [
        {
          "output_type": "stream",
          "name": "stdout",
          "text": [
            "Drive already mounted at /content/drive; to attempt to forcibly remount, call drive.mount(\"/content/drive\", force_remount=True).\n"
          ]
        }
      ]
    },
    {
      "cell_type": "code",
      "metadata": {
        "colab": {
          "base_uri": "https://localhost:8080/"
        },
        "id": "Aw20SZl_bvIc",
        "outputId": "3acd9c9d-6a55-4a7e-9767-19b4fa50f2b5"
      },
      "source": [
        "# Create list of filename paths\n",
        "labels_csv = pd.read_csv(\"/content/drive/MyDrive/Data/Dog Vision/labels.csv\")\n",
        "filenames = [\"/content/drive/MyDrive/Data/Dog Vision/train/\"+ fname + \".jpg\" for fname in labels_csv[\"id\"]]\n",
        "if len(os.listdir(\"/content/drive/MyDrive/Data/Dog Vision/train/\")) == len(filenames):\n",
        "  print(\"Filenames match actual amount of files. Proceed\")\n",
        "else:\n",
        "  print(\"Filenames do not match actual amount of files, check the target directory\")"
      ],
      "execution_count": 33,
      "outputs": [
        {
          "output_type": "stream",
          "name": "stdout",
          "text": [
            "Filenames match actual amount of files. Proceed\n"
          ]
        }
      ]
    },
    {
      "cell_type": "code",
      "metadata": {
        "id": "z1WlkF3ocBWS"
      },
      "source": [
        "# Create list of all unique dog breed labels\n",
        "labels = labels_csv[\"breed\"].to_numpy()\n",
        "unique_breeds = np.unique(labels)\n",
        "\n",
        "# Turn unique labels into booleans\n",
        "boolean_labels = [label ==  unique_breeds for label in labels]"
      ],
      "execution_count": 34,
      "outputs": []
    },
    {
      "cell_type": "code",
      "metadata": {
        "id": "Z3x0CAEz5doD"
      },
      "source": [
        "# Create validation set from training data\n",
        "X = filenames\n",
        "y = boolean_labels"
      ],
      "execution_count": 35,
      "outputs": []
    },
    {
      "cell_type": "code",
      "metadata": {
        "id": "UHLFh8wA52Wz"
      },
      "source": [
        "# Set number of images to use for experimenting\n",
        "NUM_IMAGES = 1000 #@param {type:\"slider\", min:1000, max:10000, step:1000}"
      ],
      "execution_count": 36,
      "outputs": []
    },
    {
      "cell_type": "code",
      "metadata": {
        "colab": {
          "base_uri": "https://localhost:8080/"
        },
        "id": "-NHSIqYk5504",
        "outputId": "071e3881-febc-44ed-f6da-d57eeac0ef0c"
      },
      "source": [
        "# Split them into training and validation of total size NUM_IMAGES\n",
        "X_train, X_val, y_train, y_val = train_test_split(X[:NUM_IMAGES],\n",
        "                                                  y[:NUM_IMAGES],\n",
        "                                                  test_size=0.2,\n",
        "                                                  random_state=42)\n",
        "len(X_train), len(y_train), len(X_val), len(y_val)"
      ],
      "execution_count": 37,
      "outputs": [
        {
          "output_type": "execute_result",
          "data": {
            "text/plain": [
              "(800, 800, 200, 200)"
            ]
          },
          "metadata": {},
          "execution_count": 37
        }
      ]
    },
    {
      "cell_type": "code",
      "metadata": {
        "colab": {
          "base_uri": "https://localhost:8080/"
        },
        "id": "E4SRjRbU6HLx",
        "outputId": "8c07f701-d250-4db3-ad5f-85ec5a3217cd"
      },
      "source": [
        "# Example of training X & y\n",
        "X_train[:1], y_train[:1]"
      ],
      "execution_count": 38,
      "outputs": [
        {
          "output_type": "execute_result",
          "data": {
            "text/plain": [
              "(['/content/drive/MyDrive/Data/Dog Vision/train/00bee065dcec471f26394855c5c2f3de.jpg'],\n",
              " [array([False, False, False, False, False, False, False, False, False,\n",
              "         False, False, False, False, False, False, False, False, False,\n",
              "         False, False, False, False, False, False, False, False,  True,\n",
              "         False, False, False, False, False, False, False, False, False,\n",
              "         False, False, False, False, False, False, False, False, False,\n",
              "         False, False, False, False, False, False, False, False, False,\n",
              "         False, False, False, False, False, False, False, False, False,\n",
              "         False, False, False, False, False, False, False, False, False,\n",
              "         False, False, False, False, False, False, False, False, False,\n",
              "         False, False, False, False, False, False, False, False, False,\n",
              "         False, False, False, False, False, False, False, False, False,\n",
              "         False, False, False, False, False, False, False, False, False,\n",
              "         False, False, False, False, False, False, False, False, False,\n",
              "         False, False, False])])"
            ]
          },
          "metadata": {},
          "execution_count": 38
        }
      ]
    },
    {
      "cell_type": "markdown",
      "metadata": {
        "id": "FLVcypsQaNaS"
      },
      "source": [
        "# Buffer: New notebook above reorganize using cells below"
      ]
    },
    {
      "cell_type": "markdown",
      "metadata": {
        "id": "M6bTq9WBBjRr"
      },
      "source": [
        "\n",
        "# Getting our data ready (turning into Tensors)\n",
        "\n",
        "With all machine learning models, our data has to be in numerical format. So that's what we'll be doing first. Turning our images into Tensors (numerical representations).\n",
        "\n",
        "Let's start by accessing our data and checking out the labels.\n"
      ]
    },
    {
      "cell_type": "code",
      "metadata": {
        "id": "-A1HzPS4Bw3M"
      },
      "source": [
        "# Checkout the labels of our data\n",
        "import pandas as pd\n",
        "labels_csv = pd.read_csv(\"/content/drive/MyDrive/Data/Dog Vision/labels.csv\")\n",
        "print(labels_csv.describe())\n",
        "print(labels_csv.head())"
      ],
      "execution_count": null,
      "outputs": []
    },
    {
      "cell_type": "code",
      "metadata": {
        "id": "vNkopYseCG7L"
      },
      "source": [
        "labels_csv.head()"
      ],
      "execution_count": null,
      "outputs": []
    },
    {
      "cell_type": "code",
      "metadata": {
        "id": "dcwiMBEOCWaf"
      },
      "source": [
        "# How many images are there of each breed\n",
        "labels_csv[\"breed\"].value_counts().plot.bar(figsize=(20,10))"
      ],
      "execution_count": null,
      "outputs": []
    },
    {
      "cell_type": "code",
      "metadata": {
        "id": "DZUxOLwxCrfu"
      },
      "source": [
        "# Median number of images per class\n",
        "labels_csv[\"breed\"].value_counts().median()"
      ],
      "execution_count": null,
      "outputs": []
    },
    {
      "cell_type": "code",
      "metadata": {
        "id": "kJVyAIlPGoOl",
        "colab": {
          "base_uri": "https://localhost:8080/",
          "height": 392
        },
        "outputId": "9a840e36-649a-4735-bb14-b4ba67269582"
      },
      "source": [
        "# View an image\n",
        "from IPython.display import Image\n",
        "Image(filenames[1])"
      ],
      "execution_count": 31,
      "outputs": [
        {
          "output_type": "execute_result",
          "data": {
            "image/jpeg": "[encoded data removed]",
            "text/plain": [
              "<IPython.core.display.Image object>"
            ]
          },
          "metadata": {},
          "execution_count": 31
        }
      ]
    },
    {
      "cell_type": "markdown",
      "metadata": {
        "id": "akx6h7_mHZNd"
      },
      "source": [
        "### Getting images and their labels\n",
        "\n",
        "Let's get a list of all of our image file pathnames."
      ]
    },
    {
      "cell_type": "code",
      "metadata": {
        "id": "g9U2SUwXHvPL"
      },
      "source": [
        "labels_csv.head()"
      ],
      "execution_count": null,
      "outputs": []
    },
    {
      "cell_type": "code",
      "metadata": {
        "id": "6wVaRg85HqB6"
      },
      "source": [
        "# Create pathnames from image ID's\n",
        "filenames = [\"/content/drive/MyDrive/Data/Dog Vision/train/\"+ fname + \".jpg\" for fname in labels_csv[\"id\"]]\n",
        "\n",
        "# check the first 10\n",
        "filenames[:10]"
      ],
      "execution_count": null,
      "outputs": []
    },
    {
      "cell_type": "code",
      "metadata": {
        "id": "oNHLyneXH8aN"
      },
      "source": [
        "# Check whether number of filenames matches number of actual image files\n",
        "import os\n",
        "if len(os.listdir(\"/content/drive/MyDrive/Data/Dog Vision/train/\")) == len(filenames):\n",
        "  print(\"Filenames match actual amount of files. Proceed\")\n",
        "else:\n",
        "  print(\"Filenames do not match actual amount of filles, check the target directory\")"
      ],
      "execution_count": null,
      "outputs": []
    },
    {
      "cell_type": "code",
      "metadata": {
        "id": "-r6ytiLlIzoz"
      },
      "source": [
        "# One more check\n",
        "Image(filenames[9000])"
      ],
      "execution_count": null,
      "outputs": []
    },
    {
      "cell_type": "code",
      "metadata": {
        "id": "7Cdka3pUJOd9"
      },
      "source": [
        "labels_csv[\"breed\"][9000]"
      ],
      "execution_count": null,
      "outputs": []
    },
    {
      "cell_type": "markdown",
      "metadata": {
        "id": "szGk3tW8JXIb"
      },
      "source": [
        "Since we've now got our training image filepaths in a list, let's prepare our labels."
      ]
    },
    {
      "cell_type": "code",
      "metadata": {
        "id": "XXbsWxIEM9T0",
        "colab": {
          "base_uri": "https://localhost:8080/"
        },
        "outputId": "d02098d1-cd02-47cf-9abc-b2faa0b60fd8"
      },
      "source": [
        "import numpy as np\n",
        "labels = labels_csv[\"breed\"].to_numpy()\n",
        "labels"
      ],
      "execution_count": 4,
      "outputs": [
        {
          "output_type": "execute_result",
          "data": {
            "text/plain": [
              "array(['boston_bull', 'dingo', 'pekinese', ..., 'airedale',\n",
              "       'miniature_pinscher', 'chesapeake_bay_retriever'], dtype=object)"
            ]
          },
          "metadata": {},
          "execution_count": 4
        }
      ]
    },
    {
      "cell_type": "code",
      "metadata": {
        "id": "umxsghNzNEz_"
      },
      "source": [
        "len(labels)"
      ],
      "execution_count": null,
      "outputs": []
    },
    {
      "cell_type": "code",
      "metadata": {
        "id": "EiwQh3D2NJDH"
      },
      "source": [
        "# Check if number of labels matchers the number of filenames\n",
        "if len(labels) == len(filenames):\n",
        "  print(\"Number of labels matches number of filenames.\")\n",
        "else:\n",
        "  print(\"Number of labels does not match number of filenames, check data directories.\")"
      ],
      "execution_count": null,
      "outputs": []
    },
    {
      "cell_type": "code",
      "metadata": {
        "id": "IN25EQxONf4r",
        "colab": {
          "base_uri": "https://localhost:8080/"
        },
        "outputId": "9425ae53-1f1e-4662-f98c-3c08dc041d9c"
      },
      "source": [
        "# Find the unique label values\n",
        "unique_breeds = np.unique(labels)\n",
        "len(unique_breeds)"
      ],
      "execution_count": 5,
      "outputs": [
        {
          "output_type": "execute_result",
          "data": {
            "text/plain": [
              "120"
            ]
          },
          "metadata": {},
          "execution_count": 5
        }
      ]
    },
    {
      "cell_type": "code",
      "metadata": {
        "id": "z_xkzmcINrS8",
        "colab": {
          "base_uri": "https://localhost:8080/"
        },
        "outputId": "1a40b51a-af0e-4d60-e1bb-00595d82c2ed"
      },
      "source": [
        "# Turn a single label into an array of booleans\n",
        "print(labels[0])\n",
        "labels[0] == unique_breeds"
      ],
      "execution_count": 6,
      "outputs": [
        {
          "output_type": "stream",
          "name": "stdout",
          "text": [
            "boston_bull\n"
          ]
        },
        {
          "output_type": "execute_result",
          "data": {
            "text/plain": [
              "array([False, False, False, False, False, False, False, False, False,\n",
              "       False, False, False, False, False, False, False, False, False,\n",
              "       False,  True, False, False, False, False, False, False, False,\n",
              "       False, False, False, False, False, False, False, False, False,\n",
              "       False, False, False, False, False, False, False, False, False,\n",
              "       False, False, False, False, False, False, False, False, False,\n",
              "       False, False, False, False, False, False, False, False, False,\n",
              "       False, False, False, False, False, False, False, False, False,\n",
              "       False, False, False, False, False, False, False, False, False,\n",
              "       False, False, False, False, False, False, False, False, False,\n",
              "       False, False, False, False, False, False, False, False, False,\n",
              "       False, False, False, False, False, False, False, False, False,\n",
              "       False, False, False, False, False, False, False, False, False,\n",
              "       False, False, False])"
            ]
          },
          "metadata": {},
          "execution_count": 6
        }
      ]
    },
    {
      "cell_type": "code",
      "metadata": {
        "id": "5nTQd4dcN6Z1"
      },
      "source": [
        "# Turn every label into a boolean array\n",
        "boolean_labels = [label ==  unique_breeds for label in labels]\n",
        "boolean_labels[:2]"
      ],
      "execution_count": null,
      "outputs": []
    },
    {
      "cell_type": "code",
      "metadata": {
        "id": "8ErjX2P3OMt6"
      },
      "source": [
        "len(boolean_labels)"
      ],
      "execution_count": null,
      "outputs": []
    },
    {
      "cell_type": "code",
      "metadata": {
        "id": "fxpTVfOaOP4E"
      },
      "source": [
        "# Example: Turning boolean array into integers\n",
        "print(labels[0]) # original label\n",
        "print(np.where(unique_breeds == labels[0])) # index where label occurs\n",
        "print(boolean_labels[0].argmax()) # index where label occurs in boolean array\n",
        "print(boolean_labels[0].astype(int)) # there will be a 1 where the sample label occurs"
      ],
      "execution_count": null,
      "outputs": []
    },
    {
      "cell_type": "code",
      "metadata": {
        "id": "q0rYFfCbO15B"
      },
      "source": [
        "print(labels[2]) # original label\n",
        "print(boolean_labels[2].astype(int)) # there will be a 1 where the sample label occurs"
      ],
      "execution_count": null,
      "outputs": []
    },
    {
      "cell_type": "markdown",
      "metadata": {
        "id": "FS5M3BzIPBsp"
      },
      "source": [
        "### Creating our own validation set\n",
        "Since the dataset from Kaggle doesn't come with a validation set, we're going to create our own."
      ]
    },
    {
      "cell_type": "code",
      "metadata": {
        "id": "VIXO0NOwNa-s"
      },
      "source": [
        "# Setup X & y variables\n",
        "X = filenames\n",
        "y = boolean_labels"
      ],
      "execution_count": null,
      "outputs": []
    },
    {
      "cell_type": "code",
      "metadata": {
        "id": "zb_6uLdENijn"
      },
      "source": [
        "len(filenames)"
      ],
      "execution_count": null,
      "outputs": []
    },
    {
      "cell_type": "markdown",
      "metadata": {
        "id": "X6UQxuKmNkTC"
      },
      "source": [
        "We're going to start off experimenting with ~1000 images and increase as needed."
      ]
    },
    {
      "cell_type": "code",
      "metadata": {
        "id": "mnKpVhSaNzTF"
      },
      "source": [
        "# Set number of images to use for experimenting\n",
        "NUM_IMAGES = 1000 #@param {type:\"slider\", min:1000, max:10000, step:1000}"
      ],
      "execution_count": null,
      "outputs": []
    },
    {
      "cell_type": "code",
      "metadata": {
        "id": "6J4eT3p4OcCG"
      },
      "source": [
        "# Let's split our data into train and validation sets\n",
        "from sklearn.model_selection import train_test_split\n",
        "\n",
        "# Split them into training and validation of total size NUM_IMAGES\n",
        "X_train, X_val, y_train, y_val = train_test_split(X[:NUM_IMAGES],\n",
        "                                                  y[:NUM_IMAGES],\n",
        "                                                  test_size=0.2,\n",
        "                                                  random_state=42)\n",
        "len(X_train), len(y_train), len(X_val), len(y_val)"
      ],
      "execution_count": null,
      "outputs": []
    },
    {
      "cell_type": "code",
      "metadata": {
        "id": "8Xj_n47vPH9b"
      },
      "source": [
        "# Let's have a look at the the training data\n",
        "X_train[:2], y_train[:2]"
      ],
      "execution_count": null,
      "outputs": []
    },
    {
      "cell_type": "markdown",
      "metadata": {
        "id": "5sb6t_qWPS26"
      },
      "source": [
        "## Preprocessing Images (turning images into Tensors)\n",
        "\n",
        "To preprocess our images into Tensors we're going to write a function which does a few things:\n",
        "1. Take an image filepath as input\n",
        "2. Use TensorFlow to read the file and save it to a variable `image`\n",
        "3. Turn our `image` (a jpg) into tensors\n",
        "4. Normalize our image (convert color channel values from 0-255 to 0-1 values)\n",
        "5. Resize the `image` to be a shape of (224, 224)\n",
        "6. Return the modified `image`"
      ]
    },
    {
      "cell_type": "code",
      "metadata": {
        "id": "kIGYzqtNTCd1",
        "colab": {
          "base_uri": "https://localhost:8080/"
        },
        "outputId": "a02acb7f-bcd2-4faf-e3ec-fc4b6d4f8892"
      },
      "source": [
        "# Convert image to Numpy array\n",
        "from matplotlib.pyplot import imread\n",
        "image = imread(filenames[1])\n",
        "image.shape"
      ],
      "execution_count": 39,
      "outputs": [
        {
          "output_type": "execute_result",
          "data": {
            "text/plain": [
              "(375, 500, 3)"
            ]
          },
          "metadata": {},
          "execution_count": 39
        }
      ]
    },
    {
      "cell_type": "code",
      "metadata": {
        "colab": {
          "base_uri": "https://localhost:8080/"
        },
        "id": "52C-vkuH66Gf",
        "outputId": "bd2384d2-903a-4d92-9e8f-8b9d33f2443d"
      },
      "source": [
        "imread(filenames[1])"
      ],
      "execution_count": 40,
      "outputs": [
        {
          "output_type": "execute_result",
          "data": {
            "text/plain": [
              "array([[[ 51,  34,  27],\n",
              "        [ 55,  38,  30],\n",
              "        [ 61,  42,  35],\n",
              "        ...,\n",
              "        [128,  92,  60],\n",
              "        [ 78,  42,  10],\n",
              "        [168, 132, 100]],\n",
              "\n",
              "       [[ 62,  45,  37],\n",
              "        [ 64,  45,  38],\n",
              "        [ 63,  45,  35],\n",
              "        ...,\n",
              "        [115,  81,  53],\n",
              "        [ 46,  12,   0],\n",
              "        [ 73,  39,  11]],\n",
              "\n",
              "       [[ 57,  39,  29],\n",
              "        [ 58,  38,  29],\n",
              "        [ 57,  37,  28],\n",
              "        ...,\n",
              "        [ 60,  33,  12],\n",
              "        [ 53,  26,   5],\n",
              "        [ 63,  36,  15]],\n",
              "\n",
              "       ...,\n",
              "\n",
              "       [[192, 111,  30],\n",
              "        [185, 103,  30],\n",
              "        [183, 102,  36],\n",
              "        ...,\n",
              "        [ 52,  26,  29],\n",
              "        [ 34,   8,   9],\n",
              "        [ 21,   0,   0]],\n",
              "\n",
              "       [[181, 100,  19],\n",
              "        [202, 120,  47],\n",
              "        [207, 126,  60],\n",
              "        ...,\n",
              "        [ 35,   6,   8],\n",
              "        [ 58,  30,  29],\n",
              "        [ 88,  60,  57]],\n",
              "\n",
              "       [[182, 101,  20],\n",
              "        [205, 123,  50],\n",
              "        [216, 135,  69],\n",
              "        ...,\n",
              "        [ 38,   9,   5],\n",
              "        [115,  86,  82],\n",
              "        [192, 163, 157]]], dtype=uint8)"
            ]
          },
          "metadata": {},
          "execution_count": 40
        }
      ]
    },
    {
      "cell_type": "code",
      "metadata": {
        "id": "TBkBnAkIT50J",
        "colab": {
          "base_uri": "https://localhost:8080/"
        },
        "outputId": "77c03e04-97d1-4f5b-c363-fc8a99038089"
      },
      "source": [
        "image.max(), image.min()"
      ],
      "execution_count": 41,
      "outputs": [
        {
          "output_type": "execute_result",
          "data": {
            "text/plain": [
              "(255, 0)"
            ]
          },
          "metadata": {},
          "execution_count": 41
        }
      ]
    },
    {
      "cell_type": "code",
      "metadata": {
        "id": "-VDMJFTpUD-Q",
        "colab": {
          "base_uri": "https://localhost:8080/"
        },
        "outputId": "b8fde830-0e00-432f-cf64-2b30fc82e0d0"
      },
      "source": [
        "tf.constant(image)[:2]"
      ],
      "execution_count": 42,
      "outputs": [
        {
          "output_type": "execute_result",
          "data": {
            "text/plain": [
              "<tf.Tensor: shape=(2, 500, 3), dtype=uint8, numpy=\n",
              "array([[[ 51,  34,  27],\n",
              "        [ 55,  38,  30],\n",
              "        [ 61,  42,  35],\n",
              "        ...,\n",
              "        [128,  92,  60],\n",
              "        [ 78,  42,  10],\n",
              "        [168, 132, 100]],\n",
              "\n",
              "       [[ 62,  45,  37],\n",
              "        [ 64,  45,  38],\n",
              "        [ 63,  45,  35],\n",
              "        ...,\n",
              "        [115,  81,  53],\n",
              "        [ 46,  12,   0],\n",
              "        [ 73,  39,  11]]], dtype=uint8)>"
            ]
          },
          "metadata": {},
          "execution_count": 42
        }
      ]
    },
    {
      "cell_type": "markdown",
      "metadata": {
        "id": "Gm0CWI46UFqI"
      },
      "source": [
        "Now we've seen what an image looks like as a Tensor, let's make a function to preprocess them."
      ]
    },
    {
      "cell_type": "code",
      "metadata": {
        "id": "fd4N7CZmVY2K"
      },
      "source": [
        "# Define image size\n",
        "IMG_SIZE = 224\n",
        "\n",
        "# Create a function for preprocessing images\n",
        "def process_image(image_path, img_size=IMG_SIZE):\n",
        "  \"\"\"\n",
        "  Takes an image file path and turns the image into a Tensor.\n",
        "  \"\"\"\n",
        "  # Read in an image file\n",
        "  image = tf.io.read_file(image_path)\n",
        "  # Turn the jpeg image into numerical Tensor with 3 colour channels (Red, Green, Blue)\n",
        "  image = tf.image.decode_jpeg(image, channels=3)\n",
        "  # Convert the colour channel values from 0-255 to 0-1 values\n",
        "  image = tf.image.convert_image_dtype(image, tf.float32)\n",
        "  # Resize the image to our desired value(224, 224)\n",
        "  image = tf.image.resize(image, size=[IMG_SIZE, IMG_SIZE])\n",
        "\n",
        "  return image"
      ],
      "execution_count": null,
      "outputs": []
    },
    {
      "cell_type": "markdown",
      "metadata": {
        "id": "p23XUPKAQT7q"
      },
      "source": [
        "## Turning our data into batches\n",
        "\n",
        "Why turn our data into batches?\n",
        "\n",
        "Let's say you're trying to process 10,000+ images in one go... they all might not fit into memory.\n",
        "\n",
        "So that's why we do about 32 (this is the batch size) images at a time (you can manually adjust the batch size if need be).\n",
        "\n",
        "In order to use TensorFlow effectively, we need our data in the form of Tensor tuples which look like this: (image, label)"
      ]
    },
    {
      "cell_type": "code",
      "metadata": {
        "id": "2AXJ-twKRUhy"
      },
      "source": [
        "# Create a simple function to return a tuple (image, label)\n",
        "def get_image_label(image_path, label):\n",
        "  \"\"\"\n",
        "  Takes an image file path name and the associated label,\n",
        "  processed the image and returns a tuple of (image, label\n",
        "  \"\"\"\n",
        "  image = process_image(image_path)\n",
        "  return image, label"
      ],
      "execution_count": null,
      "outputs": []
    },
    {
      "cell_type": "code",
      "metadata": {
        "id": "9vfWPqBoRsyv"
      },
      "source": [
        "# Demo of the above\n",
        "(process_image(X[42]), tf.constant(y[42]))"
      ],
      "execution_count": null,
      "outputs": []
    },
    {
      "cell_type": "markdown",
      "metadata": {
        "id": "ewlXQ-TOR94g"
      },
      "source": [
        "Now we've got a way to turn our data into tuples of Tensors in the form: `(image, label)`, let's make a function to turn all of our data `(x & y)` into batches."
      ]
    },
    {
      "cell_type": "code",
      "metadata": {
        "id": "u4JJOlVyWBiL"
      },
      "source": [
        "# Define batch size, 32 is a good start\n",
        "BATCH_SIZE = 32\n",
        "\n",
        "# Create a function to turn data into batches\n",
        "def create_data_batches(X, y=None, batch_size=BATCH_SIZE, valid_data=False, test_data=False):\n",
        "  \"\"\"\n",
        "  Creates batches of data out of image (X) and lebel (y) pairs.\n",
        "  Shuffles the data if it's training data but doesn't shuffle if it's validation data.\n",
        "  Also accepts test data as input (no labels).\n",
        "  \"\"\"\n",
        "  # If the data is a test dataset, we probably don't have labels\n",
        "  if test_data:\n",
        "    print(\"Creating test data batches...\")\n",
        "    data = tf.data.Dataset.from_tensor_slices((tf.constant(X))) # Only filepaths (no labels)\n",
        "    data_batch = data.map(process_image).batch(BATCH_SIZE)\n",
        "    return data_batch\n",
        "\n",
        "  # If the data is a valid dataset, we don't need to shuffle it\n",
        "  elif valid_data:\n",
        "    print(\"Creating validation data batches...\")\n",
        "    data = tf.data.Dataset.from_tensor_slices((tf.constant(X), # filepaths\n",
        "                                               tf.constant(y)))# labels\n",
        "    data_batch = data.map(get_image_label).batch(BATCH_SIZE)\n",
        "    return data_batch\n",
        "\n",
        "  else:\n",
        "    print(\"Creating training data batches...\")\n",
        "    # Turn filepaths and labels into Tensors\n",
        "    data = tf.data.Dataset.from_tensor_slices((tf.constant(X),\n",
        "                                               tf.constant(y)))\n",
        "    # Shuffling pathnames and labels before mapping image processor function is faster than shuffling images\n",
        "    data = data.shuffle(buffer_size=len(X))\n",
        "\n",
        "    # Create (image, label) tuples (this also turns the image path into a preprocessed image)\n",
        "    data = data.map(get_image_label)\n",
        "\n",
        "    # Turn the training data into batches\n",
        "    data_batch = data.batch(BATCH_SIZE)\n",
        "  return data_batch"
      ],
      "execution_count": null,
      "outputs": []
    },
    {
      "cell_type": "code",
      "metadata": {
        "id": "bDHfig4ZYo3v"
      },
      "source": [
        "# Create training and validation batches\n",
        "train_data = create_data_batches(X_train, y_train)\n",
        "val_data = create_data_batches(X_val, y_val, valid_data=True)"
      ],
      "execution_count": null,
      "outputs": []
    },
    {
      "cell_type": "code",
      "metadata": {
        "id": "oA9DhpK2ZAP2"
      },
      "source": [
        "# Check out the different attributes of our data batches\n",
        "train_data.element_spec, val_data.element_spec"
      ],
      "execution_count": null,
      "outputs": []
    },
    {
      "cell_type": "markdown",
      "metadata": {
        "id": "7QALN4SnZl26"
      },
      "source": [
        "## Visualizing Data Batches\n",
        "Our data is now in batches, however, these can be a little hard to understand/comprehend, let's visualize them!"
      ]
    },
    {
      "cell_type": "code",
      "metadata": {
        "id": "D0CXvSAoaMHw"
      },
      "source": [
        "import matplotlib.pyplot as plt\n",
        "\n",
        "# Create a function for viewing images in a data batch\n",
        "def show_25_images(images, labels):\n",
        "  \"\"\"\n",
        "  Displays a plot of 20 images and their labels from a data batch.\n",
        "  \"\"\"\n",
        "  # Setup a figure\n",
        "  plt.figure(figsize=(10,10))\n",
        "  # Loop through 25 (for displaying 25 images)\n",
        "  for i in range(25):\n",
        "    # Create subplots (5 rows, 5, columns\n",
        "    ax = plt.subplot(5, 5, i+1)\n",
        "    # Display an image\n",
        "    plt.imshow(images[i])\n",
        "    # Add the image label as the title\n",
        "    plt.title(unique_breeds[labels[i].argmax()])\n",
        "    # Turn grid lines off\n",
        "    plt.axis(\"off\")"
      ],
      "execution_count": null,
      "outputs": []
    },
    {
      "cell_type": "code",
      "metadata": {
        "id": "X49eSXmXbLbF"
      },
      "source": [
        "# Now let's visualize the data in a training batch\n",
        "train_images, train_labels = next(train_data.as_numpy_iterator())\n",
        "show_25_images(train_images, train_labels)"
      ],
      "execution_count": null,
      "outputs": []
    },
    {
      "cell_type": "code",
      "metadata": {
        "id": "LypmF6tkbgJo"
      },
      "source": [
        "# Now let's visualize our validation set\n",
        "val_images, val_labels = next(val_data.as_numpy_iterator())\n",
        "show_25_images(val_images, val_labels)"
      ],
      "execution_count": null,
      "outputs": []
    },
    {
      "cell_type": "markdown",
      "metadata": {
        "id": "6X-zquVMcmPN"
      },
      "source": [
        "## Building a model\n",
        "\n",
        "Before we build a model, there are a few things we need to define:\n",
        "* The input shape (our images shape, in the form of Tensors) to our model.\n",
        "* The output shape(image labels, in the form of Tensors) of our model.\n",
        "* The URL of the model we want to use from TensorFlow Hub - https://tfhub.dev/google/imagenet/mobilenet_v2_130_224/classification/5"
      ]
    },
    {
      "cell_type": "code",
      "metadata": {
        "id": "KpX0wBB1deIT"
      },
      "source": [
        "# Setup input shape to the model\n",
        "INPUT_SHAPE = [None, IMG_SIZE, IMG_SIZE, 3] # batch, height, width, colour channels\n",
        "\n",
        "# Setup output shape of our model\n",
        "OUTPUT_SHAPE = len(unique_breeds)\n",
        "\n",
        "# Setup model URL from TensorFlow Hub\n",
        "MODEL_URL = \"https://tfhub.dev/google/imagenet/mobilenet_v2_130_224/classification/5\""
      ],
      "execution_count": null,
      "outputs": []
    },
    {
      "cell_type": "markdown",
      "metadata": {
        "id": "uxUADOzCGttd"
      },
      "source": [
        "Now we've got our inputs, outputs and model ready to go.\n",
        "Let's put them together into a a Keras deep learning  model!\n",
        "\n",
        "Knowing this, let's create a function which:\n",
        "* Takes the input shape, output shape and the mode we've chosen as parameters.\n",
        "* Defines the layers in a Keras model in sequential fashion (do this first, then this, then that).\n",
        "*  Compiles the model (says it should be evaluated and improved).\n",
        "* Build the model (tells the model the input shape it'll be getting).\n",
        "* Returns the model\n",
        "\n",
        "All of these steps can be found here: https://www.tensorflow.org/guide/keras/overview"
      ]
    },
    {
      "cell_type": "code",
      "metadata": {
        "id": "qE7U6IquShks"
      },
      "source": [
        "# Create a function which builds a Keras model\n",
        "def create_model(input_shape=INPUT_SHAPE, output_shape=OUTPUT_SHAPE, model_url=MODEL_URL):\n",
        "  print(\"Building model with:\", MODEL_URL)\n",
        "  # Setup the model layers\n",
        "  model = tf.keras.Sequential([\n",
        "    hub.KerasLayer(MODEL_URL), # Layer 1 (inpuut layer)\n",
        "    tf.keras.layers.Dense(units=OUTPUT_SHAPE,\n",
        "                          activation=\"softmax\") # Layer 2 (output layer)\n",
        "  ])\n",
        "\n",
        "  #Compile the model\n",
        "  model.compile(\n",
        "      loss=tf.keras.losses.CategoricalCrossentropy(),\n",
        "      optimizer=tf.keras.optimizers.Adam(),\n",
        "      metrics=[\"accuracy\"]\n",
        "  )\n",
        "\n",
        "  # Build the model\n",
        "  model.build(INPUT_SHAPE)\n",
        "\n",
        "  return model"
      ],
      "execution_count": null,
      "outputs": []
    },
    {
      "cell_type": "code",
      "metadata": {
        "id": "CHP8VB9nUIo6"
      },
      "source": [
        "model = create_model()\n",
        "model.summary()"
      ],
      "execution_count": null,
      "outputs": []
    },
    {
      "cell_type": "markdown",
      "metadata": {
        "id": "LDdNXBNVUNOn"
      },
      "source": [
        "## Creating Callbacks\n",
        "\n",
        "Callbacks are helper functions a model can use during training to do such things as save its progress, check its progress or stop training early if a model stops improving.\n",
        "\n",
        "We'll create two callbacks, one for TensorBoard which helps track our models progress and another for early stopping which prevents our model from training for too long\n",
        "\n",
        "### TensorBoard Callback\n",
        "\n",
        "To setup a TensorBoard callback, we need to do 3 things:\n",
        "1. Load the TensorBoard notebook extension\n",
        "2. Create a TensorBoard callback which is able to save logs to a directory and pass it to our model's `fit()` function.\n",
        "3. Visualize our model's training logs with the `%tensorboard` magic function (we'll do this after model training)."
      ]
    },
    {
      "cell_type": "code",
      "metadata": {
        "id": "uNLDVLxBfQ-S"
      },
      "source": [
        "# Load TensorBoard notebook extension\n",
        "%load_ext tensorboard"
      ],
      "execution_count": null,
      "outputs": []
    },
    {
      "cell_type": "code",
      "metadata": {
        "id": "cASedARFiBxD"
      },
      "source": [
        "import datetime\n",
        "\n",
        "# Create a function to build a TensorBoard callback\n",
        "\n",
        "def create_tensorboard_callback():\n",
        "  # Create a log dictionary for storing TensorBoard logs\n",
        "  logdir = os.path.join(\"/content/drive/MyDrive/Data/Dog Vision/logs\",\n",
        "                        # Make it so the logs get tracked whenever we run an experiment\n",
        "                        datetime.datetime.now().strftime(\"%Y%m%d-%H%M%S\"))\n",
        "  return tf.keras.callbacks.TensorBoard(logdir)  "
      ],
      "execution_count": null,
      "outputs": []
    },
    {
      "cell_type": "markdown",
      "metadata": {
        "id": "qX0UCuFri_An"
      },
      "source": [
        "### Early Stopping Callback\n",
        "\n",
        "Early stopping helps stop our model from overfitting by stopping training if a certain evaluation metric stops improving.\n",
        "\n",
        "https://www.tensorflow.org/api_docs/python/tf/keras/callbacks/EarlyStopping"
      ]
    },
    {
      "cell_type": "code",
      "metadata": {
        "id": "8BKvnODcjeSL"
      },
      "source": [
        "# Create early stopping callback\n",
        "early_stopping = tf.keras.callbacks.EarlyStopping(monitor=\"val_accuracy\",\n",
        "                                                  patience=3)"
      ],
      "execution_count": null,
      "outputs": []
    },
    {
      "cell_type": "markdown",
      "metadata": {
        "id": "w7QofJatjppg"
      },
      "source": [
        "## Training a model (on a subset of data)\n",
        "\n",
        "Our first model is only going to train on 1000 images, to make sure everything is working."
      ]
    },
    {
      "cell_type": "code",
      "metadata": {
        "id": "WqQD1fLtsueu"
      },
      "source": [
        "NUM_EPOCHS = 100 #@param {type:\"slider\", min:10, max:100, step:10}"
      ],
      "execution_count": null,
      "outputs": []
    },
    {
      "cell_type": "code",
      "metadata": {
        "id": "deYaUp-FtAfg"
      },
      "source": [
        "# Check to make sure we're still running a GPU\n",
        "print(\"GPU\", \"available :^)\") if tf.config.list_physical_devices(\"GPU\") else \"not available :^(\""
      ],
      "execution_count": null,
      "outputs": []
    },
    {
      "cell_type": "markdown",
      "metadata": {
        "id": "c4wpNyzNtkRe"
      },
      "source": [
        "Let's create a function which trains a model.\n",
        "\n",
        "*  Create a model using `create_model()`\n",
        "* Setup a TensorBoard callback using `create_tensorboard_callback()`\n",
        "*  Call the `fit()` function on our model passing it the training data, validation data, number of epochs to train for (`NUM_EPOCHS`) and the callbacks we'd like to use\n",
        "* Returns the model"
      ]
    },
    {
      "cell_type": "code",
      "metadata": {
        "id": "s73SkzIruMoi"
      },
      "source": [
        "# Build a function to train and return a trained model\n",
        "def train_model():\n",
        "  \"\"\"\n",
        "Trains a given model and returns the trained version.\n",
        "  \"\"\"\n",
        "  # Create a model\n",
        "  model = create_model()\n",
        "\n",
        "  # Create new TensorBoard session everytime we train a model\n",
        "  tensorboard = create_tensorboard_callback()\n",
        "\n",
        "  # Fit the model to the data passing it the callbacks we created\n",
        "  model.fit(x=train_data,\n",
        "            epochs=NUM_EPOCHS,\n",
        "            validation_data=val_data,\n",
        "            validation_freq=1,\n",
        "            callbacks=[tensorboard, early_stopping])\n",
        "  # Return the fitted model\n",
        "  return model"
      ],
      "execution_count": null,
      "outputs": []
    },
    {
      "cell_type": "code",
      "metadata": {
        "id": "lCHAOKE1u38e"
      },
      "source": [
        "# Fit the model to the data\n",
        "model = train_model()"
      ],
      "execution_count": null,
      "outputs": []
    },
    {
      "cell_type": "markdown",
      "metadata": {
        "id": "3pzuEpW4u8Li"
      },
      "source": [
        "**Question:** It looks like our model is overfitting because it's performing far better on the training dataset than the validation dataset, what are some ways to prevent model overfitting in deep learning neural networks?\n",
        "\n",
        "**Note:** Overfitting to begin with is a good thing! It means our model is learning!!!\n"
      ]
    },
    {
      "cell_type": "markdown",
      "metadata": {
        "id": "jbos-SGNxEiH"
      },
      "source": [
        "### Checking the TensorBoard logs\n",
        "\n",
        "The TensorBoard magic function (`%tensorboard`) will access the logs directory we created earlier and visualize its contents."
      ]
    },
    {
      "cell_type": "code",
      "metadata": {
        "id": "CICoJ4uVxj9O"
      },
      "source": [
        "%tensorboard --logdir drive/My\\ Drive/Data/Dog\\ Vision/logs"
      ],
      "execution_count": null,
      "outputs": []
    },
    {
      "cell_type": "markdown",
      "metadata": {
        "id": "FKFwwBF113wi"
      },
      "source": [
        "## Making and evaluating predictions using a trained model"
      ]
    },
    {
      "cell_type": "code",
      "metadata": {
        "id": "T6ZOHbD4brIX"
      },
      "source": [
        "# Make predictions on the validation data (not used to train on)\n",
        "predictions = model.predict(val_data, verbose=1)\n",
        "predictions"
      ],
      "execution_count": null,
      "outputs": []
    },
    {
      "cell_type": "code",
      "metadata": {
        "id": "kMnbedKTb9uk"
      },
      "source": [
        "# First prediction\n",
        "index = 42\n",
        "print(predictions[index])\n",
        "print(f\"Max value (probability of predictions): {np.max(predictions[index])}\")\n",
        "print(f\"Sum: {np.sum(predictions[index])}\")\n",
        "print(f\"Max Index: {np.argmax(predictions[index])}\")\n",
        "print(f\"Predicted label: {unique_breeds[np.argmax(predictions[index])]}\")"
      ],
      "execution_count": null,
      "outputs": []
    },
    {
      "cell_type": "markdown",
      "metadata": {
        "id": "bpDT0wJTdef_"
      },
      "source": [
        "Having the above functionality is great but we want to be able to do it at scale.\n",
        "\n",
        "And it would be even better if we could see the image the prediction is being made on!\n",
        "\n",
        "**Note:** Predictions probabilities are known  as confidence levels"
      ]
    },
    {
      "cell_type": "code",
      "metadata": {
        "id": "hSSzRJ54eqbg"
      },
      "source": [
        "# Turn prediction probabilities into their respective label (easier to understand)\n",
        "def get_pred_label(prediction_probabilities):\n",
        "  \"\"\"\n",
        "  Turns an array of prediction probabilities into a label.\n",
        "  \"\"\"\n",
        "  return unique_breeds[np.argmax(prediction_probabilities)]\n",
        "\n",
        "#Get a predicted label based on an array of prediction probabilities\n",
        "pred_label = get_pred_label(predictions[9])\n",
        "pred_label"
      ],
      "execution_count": null,
      "outputs": []
    },
    {
      "cell_type": "markdown",
      "metadata": {
        "id": "4dF5Lcr7fiQR"
      },
      "source": [
        "Now since our validation data is still in a batch datset, we'll have to unbatchify it to make predictions on the validation images and then compare those predictions to the validation labels (truth labels)."
      ]
    },
    {
      "cell_type": "code",
      "metadata": {
        "id": "_3yFi4MygDaB"
      },
      "source": [
        "# Create a function to unbatch a batch dataset\n",
        "def unbatchify(data):\n",
        "  \"\"\"\n",
        "  Takes a batched dataset of (image, label) Tensors and returns separate arrays of images and labels.\n",
        "  \"\"\"\n",
        "  images = []\n",
        "  labels = []\n",
        "  # Loop through unbatched data\n",
        "  for image, label in data.unbatch().as_numpy_iterator():\n",
        "    images.append(image)\n",
        "    labels.append(unique_breeds[np.argmax(label)])\n",
        "  return images, labels\n",
        "\n",
        "# Unbatchify the validation data.\n",
        "val_images, val_labels = unbatchify(val_data)\n",
        "val_images[0], val_labels[0]"
      ],
      "execution_count": null,
      "outputs": []
    },
    {
      "cell_type": "markdown",
      "metadata": {
        "id": "A9lIwK7BhX3Z"
      },
      "source": [
        "No we've got ways to get:\n",
        "* Prediction labels\n",
        "* Validation labels(truth lagbels)\n",
        "* Validation images\n",
        "\n",
        "Let's make some function to make these all a bit more visual.\n",
        "\n",
        "We'll create a function which:\n",
        "* Takes an array of prediction probabilities, an array of truth  labels and an array of images and integers.\n",
        "* Convert the prediction probabilities to a predicted label\n",
        "*  Plot the predicted label, its predicted probability, the truth label and the target image on a single plot."
      ]
    },
    {
      "cell_type": "code",
      "metadata": {
        "id": "4ObPp49dkaUc"
      },
      "source": [
        "def plot_pred(prediction_probabilities, labels, images, n=1):\n",
        "  \"\"\"\n",
        "  View the prediction, ground truth and image for sample n\n",
        "  \"\"\"\n",
        "  pred_prob, true_label, image = prediction_probabilities[n], labels[n], images[n]\n",
        "\n",
        "  # Get the pred label\n",
        "  pred_label = get_pred_label(pred_prob)\n",
        "\n",
        "  # Plot image & remove ticks\n",
        "  plt.imshow(image)\n",
        "  plt.xticks([])\n",
        "  plt.yticks([])\n",
        "\n",
        "  # Change the color of the title depending on if the prediction is right or wrong\n",
        "  if pred_label == true_label:\n",
        "    color = \"green\"\n",
        "  else:\n",
        "    color = \"red\"\n",
        "\n",
        "  # Change plot title to be predicted, probability of prediction  and truth label\n",
        "  plt.title(\"{} {:2.0f}% {}\".format(pred_label,\n",
        "                                    np.max(pred_prob)*100,\n",
        "                                    true_label),\n",
        "                                    color=color)"
      ],
      "execution_count": null,
      "outputs": []
    },
    {
      "cell_type": "code",
      "metadata": {
        "id": "9FH7RHwtlbK_"
      },
      "source": [
        "plot_pred(prediction_probabilities=predictions,\n",
        "          labels=val_labels,\n",
        "          images=val_images,\n",
        "          n=77)"
      ],
      "execution_count": null,
      "outputs": []
    },
    {
      "cell_type": "markdown",
      "metadata": {
        "id": "8NNTpUM0lypE"
      },
      "source": [
        "Now we've got one function to visualize our models top prediction, let's make another to view our model's top 10 predictions\n",
        "\n",
        "This function will:\n",
        "* Take an input of prediction probabilities array and a ground truth array and an integers\n",
        "* Find the prediction using `get_pred_label`\n",
        "* Find the top 10:\n",
        "  * Prediction probabilities indexes\n",
        "  * Prediction probabilities values\n",
        "  * Prediction labels\n",
        "*  Plot the top 10 prediction probability values and labels, coloring the true label green"
      ]
    },
    {
      "cell_type": "code",
      "metadata": {
        "id": "-AQT_hqRxarL"
      },
      "source": [
        "def plot_pred_conf(prediction_probabilities, labels, n=1):\n",
        "  \"\"\"\n",
        "  Plus the top 10 highest prediction confidences along with the ttruth labels for sample n.\n",
        "  \"\"\"\n",
        "  pred_prob, true_label = prediction_probabilities[n], labels[n]\n",
        "\n",
        "  # Get the predicted label\n",
        "  pred_label = get_pred_label(pred_prob)\n",
        "\n",
        "  # Find the top 10 prediction confidence indexes\n",
        "  top_10_pred_indexes = pred_prob.argsort()[-10:][::-1]\n",
        "  # Find the top 10 prediction confidence values\n",
        "  top_10_pred_values = pred_prob[top_10_pred_indexes]\n",
        "  #Find the t op 10 prediction llabels\n",
        "  top_10_pred_labels = unique_breeds[top_10_pred_indexes]\n",
        "\n",
        "  # Setup plot\n",
        "  top_plot = plt.bar(np.arange(len(top_10_pred_labels)),\n",
        "                     top_10_pred_values,\n",
        "                     color=\"grey\")\n",
        "  plt.xticks(np.arange(len(top_10_pred_labels)),\n",
        "             labels=top_10_pred_labels,\n",
        "             rotation=\"vertical\")\n",
        "  \n",
        "  #Change color of true label\n",
        "  if np.isin(true_label, top_10_pred_labels):\n",
        "    top_plot[np.argmax(top_10_pred_labels == true_label)].set_color(\"green\")\n",
        "  else:\n",
        "    pass"
      ],
      "execution_count": null,
      "outputs": []
    },
    {
      "cell_type": "code",
      "metadata": {
        "id": "_f39F8R10sXj"
      },
      "source": [
        "plot_pred_conf(prediction_probabilities=predictions,\n",
        "               labels=val_labels,\n",
        "               n=9)"
      ],
      "execution_count": null,
      "outputs": []
    },
    {
      "cell_type": "markdown",
      "metadata": {
        "id": "ckROH4Dj0ydO"
      },
      "source": [
        "Now we've got some function to help us visualize our predictions and evaluate our model, let's check out a few."
      ]
    },
    {
      "cell_type": "code",
      "metadata": {
        "id": "GpMvNqvm1eM4"
      },
      "source": [
        "# Let's check out a few predictions and their different values\n",
        "i_multiplier = 50\n",
        "num_rows = 3\n",
        "num_cols = 2\n",
        "num_images = num_rows*num_cols\n",
        "plt.figure(figsize=(10*num_cols, 5*num_rows))\n",
        "for i in range(num_images):\n",
        "  plt.subplot(num_rows, 2*num_cols, 2*i+1)\n",
        "  plot_pred(prediction_probabilities=predictions,\n",
        "            labels=val_labels,\n",
        "            images=val_images,\n",
        "            n=i+i_multiplier)\n",
        "  plt.subplot(num_rows, 2*num_cols, 2*i+2)\n",
        "  plot_pred_conf(prediction_probabilities=predictions,\n",
        "                 labels=val_labels,\n",
        "                 n=i+i_multiplier)\n",
        "plt.tight_layout(h_pad=1.0)\n",
        "plt.show()"
      ],
      "execution_count": null,
      "outputs": []
    },
    {
      "cell_type": "markdown",
      "metadata": {
        "id": "Mox8WFhT2dEp"
      },
      "source": [
        "**Challenge:** How would you create a confusion matrix with our model's predictions and true labels"
      ]
    },
    {
      "cell_type": "code",
      "metadata": {
        "id": "hM3odt314Quq"
      },
      "source": [
        "# Create a function to save a model\n",
        "def save_model(model, suffix=None):\n",
        "  \"\"\"\n",
        "  Saves a given in a models directory and appends a suffix (string).\n",
        "  \"\"\"\n",
        "  # Create a model directory pathname with current time\n",
        "  modeldir = os.path.join(\"/content/drive/MyDrive/Data/Dog Vision/models\",\n",
        "                          datetime.datetime.now().strftime(\"%Y%m%d-%H%M%S\"))\n",
        "  model_path = modeldir + \"-\" + suffix + \".h5\" # save format of model\n",
        "  print(f\"Saving  model to: {model_path}...\")\n",
        "  model.save(model_path)\n",
        "  return model_path"
      ],
      "execution_count": null,
      "outputs": []
    },
    {
      "cell_type": "code",
      "metadata": {
        "id": "oCxx20q_5MZY"
      },
      "source": [
        "# Create a function to load a trained model\n",
        "def load_model(model_path):\n",
        "  \"\"\"\n",
        "  Loads a saved model from a specific path.\n",
        "  \"\"\"\n",
        "  print(f\"Loading saved model from: {model_path}\")\n",
        "  model = tf.keras.models.load_model(model_path,\n",
        "                                     custom_objects={\"KerasLayer\":hub.KerasLayer})\n",
        "  return model"
      ],
      "execution_count": null,
      "outputs": []
    },
    {
      "cell_type": "markdown",
      "metadata": {
        "id": "0f0bIh8h5rvK"
      },
      "source": [
        "Now we've got functions to save and load a trained model, let's make sure they work!"
      ]
    },
    {
      "cell_type": "code",
      "metadata": {
        "id": "5_mNqsyv5w-9"
      },
      "source": [
        "# Save our model trained on 1000 images\n",
        "# save_model(model, suffix=\"1000-images-mobilenetv2-Adam\")"
      ],
      "execution_count": null,
      "outputs": []
    },
    {
      "cell_type": "code",
      "metadata": {
        "id": "C6uF2EWg59nF"
      },
      "source": [
        "# Load a trained model\n",
        "loaded_1000_image_model = load_model(\"/content/drive/MyDrive/Data/Dog Vision/models/20210921-150945-1000-images-mobilenetv2-Adam.h5\")"
      ],
      "execution_count": null,
      "outputs": []
    },
    {
      "cell_type": "code",
      "metadata": {
        "id": "QpCbr4526L6q"
      },
      "source": [
        "# Evaluate the pre-saved model\n",
        "model.evaluate(val_data)"
      ],
      "execution_count": null,
      "outputs": []
    },
    {
      "cell_type": "code",
      "metadata": {
        "id": "2TbJen226Smk"
      },
      "source": [
        "loaded_1000_image_model.evaluate(val_data)"
      ],
      "execution_count": null,
      "outputs": []
    },
    {
      "cell_type": "markdown",
      "metadata": {
        "id": "3-Sr9eWa6WfT"
      },
      "source": [
        "## Training a large model on the full data"
      ]
    },
    {
      "cell_type": "code",
      "metadata": {
        "id": "SWBdy2d27HzW"
      },
      "source": [
        "# Create a data batch with the full data set\n",
        "full_data = create_data_batches(X, y)"
      ],
      "execution_count": null,
      "outputs": []
    },
    {
      "cell_type": "code",
      "metadata": {
        "id": "R_rY8qqf7XLu"
      },
      "source": [
        "# Create a model for full model\n",
        "full_model = create_model()"
      ],
      "execution_count": null,
      "outputs": []
    },
    {
      "cell_type": "code",
      "metadata": {
        "id": "UgsKnCwZ7lGK"
      },
      "source": [
        "# Create full model callbacks\n",
        "full_model_tensorboard = create_tensorboard_callback()\n",
        "# No validation set when training on all the data so we can't monitor validation accuracy\n",
        "full_model_early_stopping = tf.keras.callbacks.EarlyStopping(monitor=\"accuracy\",\n",
        "                                                             patience=3)"
      ],
      "execution_count": null,
      "outputs": []
    },
    {
      "cell_type": "markdown",
      "metadata": {
        "id": "A57rPcQF8eHH"
      },
      "source": [
        "**Note:** Running the cell below will take a little while (maybe up to 30 minutes for the first epoch) because the GPU we're using in the runtime has to load all the images into memory."
      ]
    },
    {
      "cell_type": "code",
      "metadata": {
        "id": "45qsFaM98PxJ"
      },
      "source": [
        "# Fit the model to the full data\n",
        "full_model.fit(x=full_data,\n",
        "               epochs=NUM_EPOCHS,\n",
        "               callbacks=[full_model_tensorboard, full_model_early_stopping])"
      ],
      "execution_count": null,
      "outputs": []
    },
    {
      "cell_type": "code",
      "metadata": {
        "id": "IeTIbUKv8tnv"
      },
      "source": [
        "save_model(full_model, suffix=\"full-images-mobilenetv2-Adam\")"
      ],
      "execution_count": null,
      "outputs": []
    },
    {
      "cell_type": "code",
      "metadata": {
        "id": "UUcBF983Gat-"
      },
      "source": [
        "loaded_full_model = load_model(\"/content/drive/MyDrive/Data/Dog Vision/models/20210922-152216-full-images-mobilenetv2-Adam.h5\")"
      ],
      "execution_count": null,
      "outputs": []
    },
    {
      "cell_type": "markdown",
      "metadata": {
        "id": "eeMnjxcUFlHq"
      },
      "source": [
        "# Making Predictions on the test dataset\n",
        "\n",
        "Since our model has been trained on images in the form of Tensor batches, to make predictions on the test data, we'll have to get it into the same format.\n",
        "\n",
        "Luckily we created `create_data_batches()` earlier which can take a list of filenames as input and convert them into Tensor batches.\n",
        "\n",
        "To make predictions on test data we'll:\n",
        "*  Get the test image filenames\n",
        "* convert the filenames into test data batches using `create_data_batches()` and setting the `test_data` parameter to `True` (since the test data doesn't have labels).\n",
        "* Make predictions array by passing the test batches to the `predict()` method called on our model"
      ]
    },
    {
      "cell_type": "code",
      "metadata": {
        "id": "mXeS46AQF55T"
      },
      "source": [
        "# Load test image filenames\n",
        "test_path = \"/content/drive/MyDrive/Data/Dog Vision/test/\"\n",
        "test_filenames = [test_path + fname for fname in os.listdir(test_path)]\n",
        "test_filenames[:10]"
      ],
      "execution_count": null,
      "outputs": []
    },
    {
      "cell_type": "code",
      "metadata": {
        "id": "v-N2E086HT_o"
      },
      "source": [
        "len(test_filenames)"
      ],
      "execution_count": null,
      "outputs": []
    },
    {
      "cell_type": "code",
      "metadata": {
        "id": "-mpaaZk_HWgs"
      },
      "source": [
        "# Create test data batch\n",
        "test_data = create_data_batches(test_filenames, test_data=True)"
      ],
      "execution_count": null,
      "outputs": []
    },
    {
      "cell_type": "markdown",
      "metadata": {
        "id": "WQfgli96H3dW"
      },
      "source": [
        "**Note:** Calling `predict()` on our full model and passing it the test data batch will take a long time to run (about ~1hr)."
      ]
    },
    {
      "cell_type": "code",
      "metadata": {
        "id": "boSt9RF3HkqY"
      },
      "source": [
        "# Make predictions on test data batch using the loaded full model\n",
        "test_predictions = loaded_full_model.predict(test_data,\n",
        "                                             verbose=1)"
      ],
      "execution_count": null,
      "outputs": []
    },
    {
      "cell_type": "code",
      "metadata": {
        "id": "7r9EyLrMIEJl"
      },
      "source": [
        "# Save predictions (NumPy array) to csv file (for access later)\n",
        "np.savetxt(\"/content/drive/MyDrive/Data/Dog Vision/preds_array.csv\", test_predictions, delimiter=\",\")"
      ],
      "execution_count": null,
      "outputs": []
    },
    {
      "cell_type": "code",
      "metadata": {
        "id": "D4ugEFNYJRPI"
      },
      "source": [
        "# Load predictions (Numpy array) from csv file\n",
        "test_predictions = np.loadtxt(\"/content/drive/MyDrive/Data/Dog Vision/preds_array.csv\", delimiter=\",\")"
      ],
      "execution_count": null,
      "outputs": []
    },
    {
      "cell_type": "markdown",
      "metadata": {
        "id": "ZXZLl-09NmxD"
      },
      "source": [
        "## Preparing test predictions for Kaggle\n",
        "\n",
        "Looking at the Kaggle sample submission, we find that it wants our models prediction probability outputs in a dataframe with an ID and a column for each different dog breed.\n",
        "https://www.kaggle.com/c/dog-breed-identification/overview/evaluati\n",
        "\n",
        "To get the data into this format, we'll:\n",
        "* Create a pandas DataFrame with an ID column as well as a column for each dog breed.\n",
        "* Add data to the ID column by extracting the tst image ID's from their filepaths\n",
        "* Add data (the prediction probabilities) to each of the dog breed columns.\n",
        "* Export the DataFrame as a CSV to submit to Kaggle"
      ]
    },
    {
      "cell_type": "code",
      "metadata": {
        "id": "MbfpHm45MY2S"
      },
      "source": [
        "# Create a pandas DataFrame with empty columns\n",
        "preds_df = pd.DataFrame(columns=[\"id\"] + list(unique_breeds))\n",
        "preds_df.head()"
      ],
      "execution_count": null,
      "outputs": []
    },
    {
      "cell_type": "code",
      "metadata": {
        "id": "k_36CzIxMjtS"
      },
      "source": [
        "#Append test image ID's to predictions DataFrame\n",
        "test_ids = [os.path.splitext(path)[0] for path in os.listdir(test_path)]\n",
        "preds_df[\"id\"] = test_ids"
      ],
      "execution_count": null,
      "outputs": []
    },
    {
      "cell_type": "code",
      "metadata": {
        "id": "CqoPKbKyM4L8"
      },
      "source": [
        "preds_df.head()"
      ],
      "execution_count": null,
      "outputs": []
    },
    {
      "cell_type": "code",
      "metadata": {
        "id": "Ej8CP5zMNhME"
      },
      "source": [
        "len(preds_df)"
      ],
      "execution_count": null,
      "outputs": []
    },
    {
      "cell_type": "code",
      "metadata": {
        "id": "gBkiIyAqN-Ed"
      },
      "source": [
        "# Add the prediction probabilities to each dog breed column\n",
        "preds_df[list(unique_breeds)] = test_predictions\n",
        "preds_df.head()"
      ],
      "execution_count": null,
      "outputs": []
    },
    {
      "cell_type": "code",
      "metadata": {
        "id": "WuCEhJ0lOaVO"
      },
      "source": [
        "# Save our predictions dataframe to CSV for submission to Kaggle\n",
        "preds_df.to_csv(\"/content/drive/MyDrive/Data/Dog Vision/full_model_prediction_submissions_1.csv\",\n",
        "                index=False)"
      ],
      "execution_count": null,
      "outputs": []
    },
    {
      "cell_type": "markdown",
      "metadata": {
        "id": "WzXhWZm3OrTD"
      },
      "source": [
        "## Making predictions on custom images\n",
        "To make predictions on custom images, we'll:\n",
        "* Get the filepaths of our own images.\n",
        "* Turn the filepaths into data batches uing `create_data_batches()`. And since our custom images won't have labels, weset the test_data parameter to `True`.\n",
        "* Pass the custom image data batch to our model's predict( method.\n",
        "* Convert the prediction output probabilities to predictions labels.\n",
        "*  Compare the predicted labels to the custom images."
      ]
    },
    {
      "cell_type": "code",
      "metadata": {
        "id": "7SNiVmysRGdV"
      },
      "source": [
        "# Get custom image filepaths\n",
        "custom_path = \"/content/drive/MyDrive/Data/Dog Vision/Example Dogs/\"\n",
        "custom_image_paths = [custom_path + fname for fname in os.listdir(custom_path)]"
      ],
      "execution_count": null,
      "outputs": []
    },
    {
      "cell_type": "code",
      "metadata": {
        "id": "7iB4FO8hRati"
      },
      "source": [
        "custom_image_paths"
      ],
      "execution_count": null,
      "outputs": []
    },
    {
      "cell_type": "code",
      "metadata": {
        "id": "i5tmNiBdReSd"
      },
      "source": [
        "# Turn custom images into batch datasets\n",
        "custom_data = create_data_batches(custom_image_paths, test_data=True)\n",
        "custom_data"
      ],
      "execution_count": null,
      "outputs": []
    },
    {
      "cell_type": "code",
      "metadata": {
        "id": "SB4fUyz9Rtea"
      },
      "source": [
        "# Make predictions on the custom data\n",
        "custom_preds = loaded_full_model.predict(custom_data)\n",
        "custom_preds"
      ],
      "execution_count": null,
      "outputs": []
    },
    {
      "cell_type": "code",
      "metadata": {
        "id": "6y741vI7R6Tz"
      },
      "source": [
        "# Get custom image predictions labels\n",
        "custom_pred_labels = [get_pred_label(custom_preds[i]) for i in range(len(custom_preds))]\n",
        "custom_pred_labels"
      ],
      "execution_count": null,
      "outputs": []
    },
    {
      "cell_type": "code",
      "metadata": {
        "id": "Vtp1-Ze5SPCB"
      },
      "source": [
        "# Get custom images (our unbatchify() function won't work since ther aren't labels...)\n",
        "custom_images = []\n",
        "# Loop through unbatched data\n",
        "for image in custom_data.unbatch().as_numpy_iterator():\n",
        "  custom_images.append(image)"
      ],
      "execution_count": null,
      "outputs": []
    },
    {
      "cell_type": "code",
      "metadata": {
        "id": "aJhYEdpJSkwc"
      },
      "source": [
        "# Check custom image predictions\n",
        "plt.figure()\n",
        "for i, image in enumerate(custom_images):\n",
        "  plt.subplot(1, 3, i+1)\n",
        "  plt.xticks([])\n",
        "  plt.yticks([])\n",
        "  plt.title(custom_pred_labels[i])\n",
        "  plt.imshow(image)"
      ],
      "execution_count": null,
      "outputs": []
    },
    {
      "cell_type": "code",
      "metadata": {
        "id": "4ugX16PDS8jG"
      },
      "source": [
        ""
      ],
      "execution_count": null,
      "outputs": []
    }
  ]
}