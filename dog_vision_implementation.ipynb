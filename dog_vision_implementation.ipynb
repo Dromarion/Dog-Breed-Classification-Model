{
  "nbformat": 4,
  "nbformat_minor": 0,
  "metadata": {
    "colab": {
      "name": "dog_vision_implementation.ipynb",
      "provenance": [],
      "collapsed_sections": [],
      "authorship_tag": "ABX9TyPNELpqQUK9suiWbgdLZZCm",
      "include_colab_link": true
    },
    "kernelspec": {
      "name": "python3",
      "display_name": "Python 3"
    },
    "language_info": {
      "name": "python"
    }
  },
  "cells": [
    {
      "cell_type": "markdown",
      "metadata": {
        "id": "view-in-github",
        "colab_type": "text"
      },
      "source": [
        "<a href=\"https://colab.research.google.com/github/Dromarion/Dog-Breed-Classification-Model/blob/implementation/dog_vision_implementation.ipynb\" target=\"_parent\"><img src=\"https://colab.research.google.com/assets/colab-badge.svg\" alt=\"Open In Colab\"/></a>"
      ]
    },
    {
      "cell_type": "markdown",
      "metadata": {
        "id": "kTfw_5g3DE8_"
      },
      "source": [
        "# Dog Vision Implementation\n",
        "This notebook is a streamlined implementation of dog vision models trained in the experiments notebook. The objective is to import the pretrained models and only the functions needed to use and deploy the model to predict the dog breeds in images."
      ]
    },
    {
      "cell_type": "code",
      "metadata": {
        "id": "8yY8e8fUDvy1"
      },
      "source": [
        "# Import Libraries\n",
        "import os\n",
        "import datetime\n",
        "from IPython.display import Image\n",
        "# Data Science\n",
        "import pandas as pd\n",
        "import numpy as np\n",
        "import matplotlib.pyplot as plt\n",
        "from sklearn.model_selection import train_test_split\n",
        "import tensorflow as tf\n",
        "import tensorflow_hub as hub"
      ],
      "execution_count": 16,
      "outputs": []
    },
    {
      "cell_type": "code",
      "metadata": {
        "id": "2X-E753QQOy4"
      },
      "source": [
        ""
      ],
      "execution_count": null,
      "outputs": []
    }
  ]
}